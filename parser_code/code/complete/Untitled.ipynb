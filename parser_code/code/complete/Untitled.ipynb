{
 "cells": [
  {
   "cell_type": "code",
   "execution_count": null,
   "metadata": {
    "collapsed": true
   },
   "outputs": [],
   "source": [
    "<description id=\"description\">\n",
    "<?brief-description-of-drawings description=\"Brief Description of Drawings\" end=\"lead\"?>\n",
    "<description-of-drawings>\n",
    "<p id=\"p-0001\" num=\"0001\">FIG. 1 is a front elevational view of a shoulder bag showing my new design;</p>\n",
    "<p id=\"p-0002\" num=\"0002\">FIG. 2 is a right side elevational view thereof;</p>\n",
    "<p id=\"p-0003\" num=\"0003\">FIG. 3 is a left side elevational view thereof;</p>\n",
    "<p id=\"p-0004\" num=\"0004\">FIG. 4 is a top plan view thereof;</p>\n",
    "<p id=\"p-0005\" num=\"0005\">FIG. 5 is a bottom plan view thereof; and,</p>\n",
    "<p id=\"p-0006\" num=\"0006\">FIG. 6 is front perspective view thereof.</p>\n",
    "</description-of-drawings>\n",
    "<?brief-description-of-drawings description=\"Brief Description of Drawings\" end=\"tail\"?>"
   ]
  }
 ],
 "metadata": {
  "kernelspec": {
   "display_name": "Python 3",
   "language": "python",
   "name": "python3"
  },
  "language_info": {
   "codemirror_mode": {
    "name": "ipython",
    "version": 3
   },
   "file_extension": ".py",
   "mimetype": "text/x-python",
   "name": "python",
   "nbconvert_exporter": "python",
   "pygments_lexer": "ipython3",
   "version": "3.6.1"
  }
 },
 "nbformat": 4,
 "nbformat_minor": 2
}
