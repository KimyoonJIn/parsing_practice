{
 "cells": [
  {
   "cell_type": "code",
   "execution_count": 10,
   "metadata": {},
   "outputs": [
    {
     "data": {
      "text/plain": [
       "OrderedDict([('@id', 'description'),\n",
       "             ('description-of-drawings',\n",
       "              OrderedDict([('p',\n",
       "                            [OrderedDict([('@id', 'p-0001'),\n",
       "                                          ('@num', '0001'),\n",
       "                                          ('#text',\n",
       "                                           'FIG. 1 is a perspective view of a jingle bell shaped pasta showing my new design;')]),\n",
       "                             OrderedDict([('@id', 'p-0002'),\n",
       "                                          ('@num', '0002'),\n",
       "                                          ('#text',\n",
       "                                           'FIG. 2 is a front elevational view thereof;')]),\n",
       "                             OrderedDict([('@id', 'p-0003'),\n",
       "                                          ('@num', '0003'),\n",
       "                                          ('#text',\n",
       "                                           'FIG. 3 is a rear elevational view thereof;')]),\n",
       "                             OrderedDict([('@id', 'p-0004'),\n",
       "                                          ('@num', '0004'),\n",
       "                                          ('#text',\n",
       "                                           'FIG. 4 is a right side elevational view thereof;')]),\n",
       "                             OrderedDict([('@id', 'p-0005'),\n",
       "                                          ('@num', '0005'),\n",
       "                                          ('#text',\n",
       "                                           'FIG. 5 is a left side elevational view thereof;')]),\n",
       "                             OrderedDict([('@id', 'p-0006'),\n",
       "                                          ('@num', '0006'),\n",
       "                                          ('#text',\n",
       "                                           'FIG. 6 is a top plan view thereof; and,')]),\n",
       "                             OrderedDict([('@id', 'p-0007'),\n",
       "                                          ('@num', '0007'),\n",
       "                                          ('#text',\n",
       "                                           'FIG. 7 is a bottom plan view thereof.')])])]))])"
      ]
     },
     "execution_count": 10,
     "metadata": {},
     "output_type": "execute_result"
    }
   ],
   "source": [
    "import urllib.request\n",
    "import pprint\n",
    "import xmltodict\n",
    "from bs4 import BeautifulSoup\n",
    "\n",
    "#open xml file\n",
    "with open(\"patent_060117.xml\", \"r\", encoding = \"utf8\") as patent_xml:\n",
    "    xml = patent_xml.read()\n",
    "\n",
    "soup = BeautifulSoup(xml, \"lxml\")\n",
    "#convert xml to dict by using xmltodict\n",
    "doc = xmltodict.parse(xml)\n",
    "\n",
    "doc['us-patent-grant']['description']"
   ]
  }
 ],
 "metadata": {
  "kernelspec": {
   "display_name": "Python 3",
   "language": "python",
   "name": "python3"
  },
  "language_info": {
   "codemirror_mode": {
    "name": "ipython",
    "version": 3
   },
   "file_extension": ".py",
   "mimetype": "text/x-python",
   "name": "python",
   "nbconvert_exporter": "python",
   "pygments_lexer": "ipython3",
   "version": "3.6.1"
  }
 },
 "nbformat": 4,
 "nbformat_minor": 2
}
