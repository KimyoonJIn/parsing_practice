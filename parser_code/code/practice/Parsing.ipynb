{
 "cells": [
  {
   "cell_type": "code",
   "execution_count": 9,
   "metadata": {
    "collapsed": true
   },
   "outputs": [],
   "source": [
    "#이 코드 수정해서 어떤 확인할 것\n",
    "from io import StringIO\n",
    "import codecs\n",
    "# from cStringIO import StringIO\n",
    "from getopt import getopt\n",
    "from getopt import GetoptError\n",
    "from lxml import etree\n",
    "from sys import argv\n",
    "from sys import exit\n",
    "from time import time\n",
    "import os\n",
    "import zipfile\n",
    "\n",
    "__author__ = 'Dennis Hoppe'\n",
    "__email__ = 'hoppe.dennis@ymail.com'\n",
    "__status__ = 'Development'\n",
    "\n",
    "class FileHandler():\n",
    "    def __init__(self, zfile):\n",
    "        self.zfile = zfile\n",
    "\n",
    "    def readline(self):\n",
    "        return self.zfile.readline()\n",
    "\n",
    "    def listXmls(self):\n",
    "        output = StringIO()\n",
    "        line = self.readline()\n",
    "        output.write(line)\n",
    "        line = self.readline()\n",
    "        while line is not '':\n",
    "            if '<?xml version=\"1.0\" encoding=\"UTF-8\"?>' in line:\n",
    "                line = line.replace('<?xml version=\"1.0\" encoding=\"UTF-8\"?>', '')\n",
    "                output.write(line)\n",
    "                output.seek(0)\n",
    "                yield output\n",
    "                output = StringIO()\n",
    "                output.write('<?xml version=\"1.0\" encoding=\"UTF-8\"?>')\n",
    "            elif '<?xml version=\"1.0\"?>' in line:\n",
    "                line = line.replace('<?xml version=\"1.0\"?>', '')\n",
    "                output.write(line)\n",
    "                output.seek(0)\n",
    "                yield output\n",
    "                output = StringIO()\n",
    "                output.write('<?xml version=\"1.0\"?>')\n",
    "            else:\n",
    "                output.write(line)\n",
    "            try:\n",
    "                line = self.readline()\n",
    "            except StopIteration:\n",
    "                break\n",
    "            output.seek(0)\n",
    "            yield output\n"
   ]
  },
  {
   "cell_type": "code",
   "execution_count": 1,
   "metadata": {
    "collapsed": false
   },
   "outputs": [
    {
     "name": "stdout",
     "output_type": "stream",
     "text": [
      "['us-patent-grant', 'us-bibliographic-data-grant', 'publication-reference', 'document-id', 'country', 'doc-number', 'kind', 'date', 'application-reference', 'document-id', 'country', 'doc-number', 'date', 'us-application-series-code', 'us-term-of-grant', 'length-of-grant', 'classification-locarno', 'edition', 'main-classification', 'classification-national', 'country', 'main-classification', 'further-classification', 'further-classification', 'further-classification', 'invention-title', 'references-cited', 'citation', 'patcit', 'document-id', 'country', 'doc-number', 'kind', 'name', 'date', 'category', 'classification-national', 'country', 'main-classification', 'citation', 'patcit', 'document-id', 'country', 'doc-number', 'kind', 'name', 'date', 'category', 'classification-national', 'country', 'main-classification', 'citation', 'patcit', 'document-id', 'country', 'doc-number', 'kind', 'name', 'date', 'category', 'classification-national', 'country', 'main-classification', 'citation', 'patcit', 'document-id', 'country', 'doc-number', 'kind', 'name', 'date', 'category', 'classification-national', 'country', 'main-classification', 'citation', 'patcit', 'document-id', 'country', 'doc-number', 'kind', 'name', 'date', 'category', 'classification-national', 'country', 'main-classification', 'citation', 'patcit', 'document-id', 'country', 'doc-number', 'kind', 'name', 'date', 'category', 'classification-national', 'country', 'main-classification', 'citation', 'patcit', 'document-id', 'country', 'doc-number', 'kind', 'name', 'date', 'category', 'classification-national', 'country', 'main-classification', 'citation', 'patcit', 'document-id', 'country', 'doc-number', 'kind', 'name', 'date', 'category', 'classification-national', 'country', 'main-classification', 'citation', 'patcit', 'document-id', 'country', 'doc-number', 'kind', 'name', 'date', 'category', 'classification-national', 'country', 'main-classification', 'citation', 'patcit', 'document-id', 'country', 'doc-number', 'kind', 'name', 'date', 'category', 'classification-national', 'country', 'main-classification', 'number-of-claims', 'us-exemplary-claim', 'field-of-search', 'classification-national', 'country', 'main-classification', 'classification-national', 'country', 'main-classification', 'additional-info', 'classification-national', 'country', 'main-classification', 'classification-national', 'country', 'main-classification', 'classification-national', 'country', 'main-classification', 'classification-national', 'country', 'main-classification', 'classification-national', 'country', 'main-classification', 'additional-info', 'classification-national', 'country', 'main-classification', 'additional-info', 'classification-national', 'country', 'main-classification', 'classification-national', 'country', 'main-classification', 'classification-national', 'country', 'main-classification', 'classification-national', 'country', 'main-classification', 'figures', 'number-of-drawing-sheets', 'number-of-figures', 'parties', 'applicants', 'applicant', 'addressbook', 'last-name', 'first-name', 'address', 'city', 'state', 'country', 'nationality', 'country', 'residence', 'country', 'agents', 'agent', 'addressbook', 'orgname', 'address', 'country', 'assignees', 'assignee', 'addressbook', 'orgname', 'role', 'address', 'city', 'state', 'country', 'examiners', 'primary-examiner', 'last-name', 'first-name', 'department', 'drawings', 'figure', 'img', 'figure', 'img', 'figure', 'img', 'description', 'description-of-drawings', 'p', 'p', 'p', 'p', 'p', 'p', 'p', 'p', 'p', 'claims', 'claim', 'claim-text']\n"
     ]
    }
   ],
   "source": [
    "import urllib.request\n",
    "from bs4 import BeautifulSoup\n",
    "\n",
    "#open xml file\n",
    "with open(\"patent_0.xml\", \"r\", encoding = \"utf8\") as patent_xml:\n",
    "    xml = patent_xml.read()\n",
    "    \n",
    "soup = BeautifulSoup(xml, \"html.parser\")\n",
    "#tag\n",
    "tag_name =[tag.name for tag in soup.find_all()]\n",
    "print(tag_name)"
   ]
  },
  {
   "cell_type": "code",
   "execution_count": 4,
   "metadata": {
    "collapsed": false
   },
   "outputs": [
    {
     "name": "stdout",
     "output_type": "stream",
     "text": [
      "OrderedDict([('us-patent-grant', OrderedDict([('@lang', 'EN'), ('@dtd-version', 'v40 2004-12-02'), ('@file', 'USD0500576-20050111.XML'), ('@status', 'SAMPLE-DATA'), ('@id', 'us-patent-grant'), ('@country', 'US'), ('@date-produced', '20041228'), ('@date-publ', '20050111'), ('us-bibliographic-data-grant', OrderedDict([('publication-reference', OrderedDict([('document-id', OrderedDict([('country', 'US'), ('doc-number', 'D0500576'), ('kind', 'S1'), ('date', '20050111')]))])), ('application-reference', OrderedDict([('@appl-type', 'design'), ('document-id', OrderedDict([('country', 'US'), ('doc-number', '29178812'), ('date', '20030331')]))])), ('us-application-series-code', '29'), ('us-term-of-grant', OrderedDict([('length-of-grant', '14')])), ('classification-locarno', OrderedDict([('edition', '7'), ('main-classification', '0101')])), ('classification-national', OrderedDict([('country', 'US'), ('main-classification', 'D 1199'), ('further-classification', ['D1125', '426104', 'D21386'])])), ('invention-title', OrderedDict([('@id', 'd0e53'), ('#text', 'Food blend product')])), ('references-cited', OrderedDict([('citation', [OrderedDict([('patcit', OrderedDict([('@num', '00001'), ('document-id', OrderedDict([('country', 'US'), ('doc-number', '450378'), ('kind', 'A'), ('name', 'Robinson'), ('date', '18910400')]))])), ('category', 'cited by examiner'), ('classification-national', OrderedDict([('country', 'US'), ('main-classification', '451461')]))]), OrderedDict([('patcit', OrderedDict([('@num', '00002'), ('document-id', OrderedDict([('country', 'US'), ('doc-number', 'D174778'), ('kind', 'S'), ('name', 'Smith'), ('date', '19550500')]))])), ('category', 'cited by examiner'), ('classification-national', OrderedDict([('country', 'US'), ('main-classification', 'D 6601')]))]), OrderedDict([('patcit', OrderedDict([('@num', '00003'), ('document-id', OrderedDict([('country', 'US'), ('doc-number', '3589914'), ('kind', 'A'), ('name', 'Cooper et al.'), ('date', '19710600')]))])), ('category', 'cited by examiner'), ('classification-national', OrderedDict([('country', 'US'), ('main-classification', '426104')]))]), OrderedDict([('patcit', OrderedDict([('@num', '00004'), ('document-id', OrderedDict([('country', 'US'), ('doc-number', '4192899'), ('kind', 'A'), ('name', 'Roth'), ('date', '19800300')]))])), ('category', 'cited by examiner'), ('classification-national', OrderedDict([('country', 'US'), ('main-classification', '426513')]))]), OrderedDict([('patcit', OrderedDict([('@num', '00005'), ('document-id', OrderedDict([('country', 'US'), ('doc-number', 'D296377'), ('kind', 'S'), ('name', 'Skiver et al.'), ('date', '19880600')]))])), ('category', 'cited by examiner'), ('classification-national', OrderedDict([('country', 'US'), ('main-classification', 'D 1199')]))]), OrderedDict([('patcit', OrderedDict([('@num', '00006'), ('document-id', OrderedDict([('country', 'US'), ('doc-number', '5447584'), ('kind', 'A'), ('name', 'Shakespeare et al.'), ('date', '19950900')]))])), ('category', 'cited by examiner'), ('classification-national', OrderedDict([('country', 'US'), ('main-classification', '156 63')]))]), OrderedDict([('patcit', OrderedDict([('@num', '00007'), ('document-id', OrderedDict([('country', 'US'), ('doc-number', '5458433'), ('kind', 'A'), ('name', 'Stastny'), ('date', '19951000')]))])), ('category', 'cited by examiner'), ('classification-national', OrderedDict([('country', 'US'), ('main-classification', '4034081')]))]), OrderedDict([('patcit', OrderedDict([('@num', '00008'), ('document-id', OrderedDict([('country', 'US'), ('doc-number', 'D393345'), ('kind', 'S'), ('name', 'Clegg et al.'), ('date', '19980400')]))])), ('category', 'cited by examiner'), ('classification-national', OrderedDict([('country', 'US'), ('main-classification', 'D 2869')]))]), OrderedDict([('patcit', OrderedDict([('@num', '00009'), ('document-id', OrderedDict([('country', 'US'), ('doc-number', 'D402227'), ('kind', 'S'), ('name', 'Granger et al.'), ('date', '19981200')]))])), ('category', 'cited by examiner'), ('classification-national', OrderedDict([('country', 'US'), ('main-classification', 'D11131')]))]), OrderedDict([('patcit', OrderedDict([('@num', '00010'), ('document-id', OrderedDict([('country', 'US'), ('doc-number', 'D409356'), ('kind', 'S'), ('name', 'Vodhanel, Jr.'), ('date', '19990500')]))])), ('category', 'cited by examiner'), ('classification-national', OrderedDict([('country', 'US'), ('main-classification', 'D 1199')]))])])])), ('number-of-claims', '1'), ('us-exemplary-claim', '1'), ('field-of-search', OrderedDict([('classification-national', [OrderedDict([('country', 'US'), ('main-classification', 'D 1199')]), OrderedDict([('country', 'US'), ('main-classification', 'D 1125-127'), ('additional-info', 'unstructured')]), OrderedDict([('country', 'US'), ('main-classification', 'D 1106')]), OrderedDict([('country', 'US'), ('main-classification', '426104')]), OrderedDict([('country', 'US'), ('main-classification', '426513')]), OrderedDict([('country', 'US'), ('main-classification', '426 92')]), OrderedDict([('country', 'US'), ('main-classification', '426558-560'), ('additional-info', 'unstructured')]), OrderedDict([('country', 'US'), ('main-classification', 'D21385-389'), ('additional-info', 'unstructured')]), OrderedDict([('country', 'US'), ('main-classification', 'D21484')]), OrderedDict([('country', 'US'), ('main-classification', '446 85')]), OrderedDict([('country', 'US'), ('main-classification', '273288')]), OrderedDict([('country', 'US'), ('main-classification', 'D11131')])])])), ('figures', OrderedDict([('number-of-drawing-sheets', '2'), ('number-of-figures', '9')])), ('parties', OrderedDict([('applicants', OrderedDict([('applicant', OrderedDict([('@sequence', '001'), ('@app-type', 'applicant-inventor'), ('@designation', 'us-only'), ('addressbook', OrderedDict([('last-name', 'Kraus'), ('first-name', 'Gerald L.'), ('address', OrderedDict([('city', 'Plymouth'), ('state', 'WI'), ('country', 'US')]))])), ('nationality', OrderedDict([('country', 'omitted')])), ('residence', OrderedDict([('country', 'US')]))]))])), ('agents', OrderedDict([('agent', OrderedDict([('@sequence', '01'), ('@rep-type', 'attorney'), ('addressbook', OrderedDict([('orgname', 'Reinhart Boerner Van Deuren S.E.'), ('address', OrderedDict([('country', 'unknown')]))]))]))]))])), ('assignees', OrderedDict([('assignee', OrderedDict([('addressbook', OrderedDict([('orgname', 'Sargento Foods, Inc.'), ('role', '02'), ('address', OrderedDict([('city', 'Plymouth'), ('state', 'WI'), ('country', 'US')]))]))]))])), ('examiners', OrderedDict([('primary-examiner', OrderedDict([('last-name', 'Burgess'), ('first-name', 'Pamela'), ('department', '2911')]))]))])), ('drawings', OrderedDict([('@id', 'DRAWINGS'), ('figure', [OrderedDict([('@id', 'Fig-EMI-D00000'), ('@num', '00000'), ('img', OrderedDict([('@id', 'EMI-D00000'), ('@he', '54.67mm'), ('@wi', '131.00mm'), ('@file', 'USD0500576-20050111-D00000.TIF'), ('@alt', 'embedded image'), ('@img-content', 'drawing'), ('@img-format', 'tif')]))]), OrderedDict([('@id', 'Fig-EMI-D00001'), ('@num', '00001'), ('img', OrderedDict([('@id', 'EMI-D00001'), ('@he', '230.50mm'), ('@wi', '155.19mm'), ('@file', 'USD0500576-20050111-D00001.TIF'), ('@alt', 'embedded image'), ('@img-content', 'drawing'), ('@img-format', 'tif')]))]), OrderedDict([('@id', 'Fig-EMI-D00002'), ('@num', '00002'), ('img', OrderedDict([('@id', 'EMI-D00002'), ('@he', '157.73mm'), ('@wi', '133.22mm'), ('@file', 'USD0500576-20050111-D00002.TIF'), ('@alt', 'embedded image'), ('@img-content', 'drawing'), ('@img-format', 'tif')]))])])])), ('description', OrderedDict([('@id', 'description'), ('description-of-drawings', OrderedDict([('p', [OrderedDict([('@id', 'P-00001'), ('@num', '00001'), ('#text', 'FIG. 1 is a perspective view of a food blend product showing my new design;')]), OrderedDict([('@id', 'P-00002'), ('@num', '00002'), ('#text', 'FIG. 2 is a perspective view of the first of two pieces comprising the food blend product, shown separately for clarity of disclosure;')]), OrderedDict([('@id', 'P-00003'), ('@num', '00003'), ('#text', 'FIG. 3 is a right side elevational view thereof, the left side being a mirror image;')]), OrderedDict([('@id', 'P-00004'), ('@num', '00004'), ('#text', 'FIG. 4 is a top plan view thereof, the bottom plan view being a mirror image;')]), OrderedDict([('@id', 'P-00005'), ('@num', '00005'), ('#text', 'FIG. 5 is a front elevational view thereof, the rear elevational view being a mirror image;')]), OrderedDict([('@id', 'P-00006'), ('@num', '00006'), ('#text', 'FIG. 6 is a perspective view of the second of two pieces comprising the food blend product, shown separately for clarity of disclosure;')]), OrderedDict([('@id', 'P-00007'), ('@num', '00007'), ('#text', 'FIG. 7 is a right side elevational view thereof, the left side elevational view being a mirror image;')]), OrderedDict([('@id', 'P-00008'), ('@num', '00008'), ('#text', 'FIG. 8 is a top plan view thereof, the bottom plan view being a mirror image; and,')]), OrderedDict([('@id', 'P-00009'), ('@num', '00009'), ('#text', 'FIG. 9 is a front elevational view thereof, the rear elevational view being a mirror image.')])])]))])), ('claims', OrderedDict([('@id', 'claims'), ('claim', OrderedDict([('@id', 'CLM-00001'), ('@num', '00001'), ('claim-text', 'The ornamental design for a food blend product, as shown and described.')]))]))]))])\n"
     ]
    }
   ],
   "source": [
    "#Conver xml to dict by using xmltodict\n",
    "\n",
    "import xmltodict\n",
    "doc = xmltodict.parse(xml)\n",
    "\n",
    "print(doc)"
   ]
  },
  {
   "cell_type": "code",
   "execution_count": 6,
   "metadata": {
    "collapsed": false
   },
   "outputs": [
    {
     "name": "stdout",
     "output_type": "stream",
     "text": [
      "US 20041228 20050111 v40 2004-12-02 USD0500576-20050111.XML us-patent-grant EN SAMPLE-DATA\n"
     ]
    }
   ],
   "source": [
    "#how to use dict?\n",
    "#examlple\n",
    "\n",
    "a = doc['us-patent-grant']['@country']\n",
    "b = doc['us-patent-grant']['@date-produced']\n",
    "c = doc['us-patent-grant']['@date-publ']\n",
    "d = doc['us-patent-grant']['@dtd-version']\n",
    "e = doc['us-patent-grant']['@file']\n",
    "f = doc['us-patent-grant']['@id']\n",
    "g = doc['us-patent-grant']['@lang']\n",
    "h = doc['us-patent-grant']['@status']\n",
    "print(a,b,c,d,e,f,g,h)"
   ]
  },
  {
   "cell_type": "code",
   "execution_count": null,
   "metadata": {
    "collapsed": true
   },
   "outputs": [],
   "source": []
  }
 ],
 "metadata": {
  "kernelspec": {
   "display_name": "Python 3",
   "language": "python",
   "name": "python3"
  },
  "language_info": {
   "codemirror_mode": {
    "name": "ipython",
    "version": 3
   },
   "file_extension": ".py",
   "mimetype": "text/x-python",
   "name": "python",
   "nbconvert_exporter": "python",
   "pygments_lexer": "ipython3",
   "version": "3.5.2"
  }
 },
 "nbformat": 4,
 "nbformat_minor": 1
}
