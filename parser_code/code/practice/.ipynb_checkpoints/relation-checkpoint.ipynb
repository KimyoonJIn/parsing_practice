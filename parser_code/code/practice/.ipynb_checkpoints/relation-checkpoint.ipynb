{
 "cells": [
  {
   "cell_type": "code",
   "execution_count": 935,
   "metadata": {
    "collapsed": true
   },
   "outputs": [],
   "source": [
    "import urllib.request\n",
    "from bs4 import BeautifulSoup\n",
    "\n",
    "#open xml file\n",
    "with open(\"three_relation.xml\", \"r\", encoding = \"utf8\") as patent_xml:\n",
    "    xml = patent_xml.read()\n",
    "\n",
    "soup = BeautifulSoup(xml, \"lxml\")\n",
    "# print(soup)"
   ]
  },
  {
   "cell_type": "code",
   "execution_count": 936,
   "metadata": {
    "collapsed": true
   },
   "outputs": [],
   "source": [
    "import pprint\n",
    "import xmltodict\n",
    "doc = xmltodict.parse(xml)\n"
   ]
  },
  {
   "cell_type": "code",
   "execution_count": 937,
   "metadata": {},
   "outputs": [],
   "source": [
    "\n",
    "def before_relation(relation):\n",
    "    us_related_documents = doc['us-patent-grant']['us-bibliographic-data-grant']['us-related-documents']\n",
    "    \n",
    "    different_tags = []\n",
    "    for i in us_realted_documents.keys():\n",
    "        different_tags.append(i)\n",
    "\n",
    "    relation_list =[]\n",
    "    for i in different_tags:\n",
    "        get_relation = doc['us-patent-grant']['us-bibliographic-data-grant']['us-related-documents'][i]\n",
    "        \n",
    "#         print((isinstance(get_relation, type(list))))\n",
    "\n",
    "        if isinstance(get_relation, type(list)) is True:\n",
    "            for j in range(1):\n",
    "            #1은 true의 갯수\n",
    "                for k in get_relation:\n",
    "                    relation_list.append(k)\n",
    "        else:\n",
    "            relation_list.append(get_relation)\n",
    "    relation(relation_list)\n",
    "           \n"
   ]
  },
  {
   "cell_type": "code",
   "execution_count": 938,
   "metadata": {},
   "outputs": [],
   "source": [
    "def relation(has_relation):\n",
    "    \n",
    "    ubdg_relateddoc_relation_parentdoc_di_country= []\n",
    "    ubdg_relateddoc_relation_parentdoc_di_doc_number =[]\n",
    "    ubdg_relateddoc_relation_parentdoc_di_kind=[]\n",
    "    ubdg_relateddoc_relation_parentdoc_di_date=[]\n",
    "    ubdg_relateddoc_relation_parentdoc_parentgrantdoc_di_country=[]\n",
    "    ubdg_relateddoc_relation_parentdoc_parentgrantdoc_di_doc_number=[]\n",
    "    ubdg_relateddoc_relation_parentdoc_parentgrantdoc_di_kind=[]\n",
    "    ubdg_relateddoc_relation_parentdoc_parentgrantdoc_di_date=[]\n",
    "    ubdg_relateddoc_relation_parentdoc_childdoc_country=[]\n",
    "    ubdg_relateddoc_relation_parentdoc_childdoc_doc_number=[]\n",
    "    ubdg_relateddoc_relation_parentdoc_parent_status=[]\n",
    "    \n",
    "    for relation_element in has_relation:\n",
    "\n",
    "        ubdg_relateddoc_relation_parentdoc_di_country.append(relation_element['relation']['parent-doc']['document-id']['country'])\n",
    "        ubdg_relateddoc_relation_parentdoc_di_doc_number.append(relation_element['relation']['parent-doc']['document-id']['doc-number'])\n",
    "        ubdg_relateddoc_relation_parentdoc_di_kind.append(relation_element['relation']['parent-doc']['document-id']['kind'])\n",
    "        ubdg_relateddoc_relation_parentdoc_di_date.append(relation_element['relation']['parent-doc']['document-id']['date'])\n",
    "\n",
    "        ubdg_relateddoc_relation_parentdoc_childdoc_country.append(relation_element['relation']['child-doc']['document-id']['country'])\n",
    "        ubdg_relateddoc_relation_parentdoc_childdoc_doc_number.append(relation_element['relation']['child-doc']['document-id']['doc-number'])\n",
    "\n",
    "        #null\n",
    "        try:\n",
    "            realtion_parent_grant_doc_country = relation_element['relation']['parent-doc']['parent-grant-document']['document-id']['country']\n",
    "            realtion_parent_grant_doc_number = relation_element['relation']['parent-doc']['parent-grant-document']['document-id']['doc-number']\n",
    "            realtion_parent_grant_doc_kind = relation_element['relation']['parent-doc']['parent-grant-document']['document-id']['kind']\n",
    "            realtion_parent_grant_doc_date = relation_element['relation']['parent-doc']['parent-grant-document']['document-id']['date']\n",
    "            ubdg_relateddoc_relation_parentdoc_parentgrantdoc_di_country.append(realtion_parent_grant_doc_country)\n",
    "            ubdg_relateddoc_relation_parentdoc_parentgrantdoc_di_doc_number.append(realtion_parent_grant_doc_number)\n",
    "            ubdg_relateddoc_relation_parentdoc_parentgrantdoc_di_kind.append(realtion_parent_grant_doc_kind)\n",
    "            ubdg_relateddoc_relation_parentdoc_parentgrantdoc_di_date.append(realtion_parent_grant_doc_date)\n",
    "        except:\n",
    "            pass\n",
    "\n",
    "        try:\n",
    "            relation_parent_status = relation_element['relation']['parent-doc']['parent_status']\n",
    "            ubdg_relateddoc_relation_parentdoc_parent_status.append(relation_parent_status)\n",
    "        except:\n",
    "            pass\n",
    "\n",
    "    print(\"parent doc number\",ubdg_relateddoc_relation_parentdoc_di_doc_number)\n",
    "    print(\"child doc number\", ubdg_relateddoc_relation_parentdoc_childdoc_doc_number )\n",
    "#     print(has_relation)\n"
   ]
  },
  {
   "cell_type": "code",
   "execution_count": 939,
   "metadata": {
    "scrolled": true
   },
   "outputs": [
    {
     "name": "stdout",
     "output_type": "stream",
     "text": [
      "parent doc number ['11231381', '09436363', '11194849', '10657855']\n",
      "child doc number ['29239195', '10657855', '11231381', '11194849']\n",
      "None\n"
     ]
    }
   ],
   "source": [
    "print(before_relation(relation))"
   ]
  },
  {
   "cell_type": "code",
   "execution_count": null,
   "metadata": {
    "collapsed": true
   },
   "outputs": [],
   "source": []
  }
 ],
 "metadata": {
  "kernelspec": {
   "display_name": "Python 3",
   "language": "python",
   "name": "python3"
  },
  "language_info": {
   "codemirror_mode": {
    "name": "ipython",
    "version": 3
   },
   "file_extension": ".py",
   "mimetype": "text/x-python",
   "name": "python",
   "nbconvert_exporter": "python",
   "pygments_lexer": "ipython3",
   "version": "3.6.1"
  }
 },
 "nbformat": 4,
 "nbformat_minor": 1
}
