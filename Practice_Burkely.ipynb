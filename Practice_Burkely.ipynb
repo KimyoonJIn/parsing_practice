{
 "cells": [
  {
   "cell_type": "code",
   "execution_count": 6,
   "metadata": {},
   "outputs": [
    {
     "ename": "SyntaxError",
     "evalue": "invalid syntax (<ipython-input-6-9542ebb049c6>, line 1)",
     "output_type": "error",
     "traceback": [
      "\u001b[0;36m  File \u001b[0;32m\"<ipython-input-6-9542ebb049c6>\"\u001b[0;36m, line \u001b[0;32m1\u001b[0m\n\u001b[0;31m    def run_parse(files, doctype='grant')\u001b[0m\n\u001b[0m                                         ^\u001b[0m\n\u001b[0;31mSyntaxError\u001b[0m\u001b[0;31m:\u001b[0m invalid syntax\n"
     ]
    }
   ],
   "source": [
    "def run_parse(files, doctype='grant'):"
   ]
  },
  {
   "cell_type": "code",
   "execution_count": 3,
   "metadata": {
    "collapsed": true
   },
   "outputs": [],
   "source": [
    "import urllib.parse"
   ]
  },
  {
   "cell_type": "code",
   "execution_count": 4,
   "metadata": {
    "collapsed": true
   },
   "outputs": [],
   "source": [
    "import time"
   ]
  },
  {
   "cell_type": "code",
   "execution_count": 5,
   "metadata": {
    "collapsed": true
   },
   "outputs": [],
   "source": [
    "import sys\n",
    "import itertools\n",
    "from flask_sqlalchemy import SQLAlchemy\n",
    "import logging"
   ]
  },
  {
   "cell_type": "code",
   "execution_count": null,
   "metadata": {
    "collapsed": true
   },
   "outputs": [],
   "source": [
    "parse.parse"
   ]
  },
  {
   "cell_type": "code",
   "execution_count": null,
   "metadata": {
    "collapsed": true
   },
   "outputs": [],
   "source": [
    "\n",
    "import requests\n",
    "from bs4 import BeautifulSoup\n",
    "import urllib\n",
    "from urllib import request\n",
    "import zipfile\n",
    "import re\n",
    "\n",
    "\n",
    "\n",
    "req = requests.get('https://www.google.com/googlebooks/uspto-patents-grants-text.html')\n",
    "html = req.text\n",
    "soup = BeautifulSoup(html, 'html.parser')\n",
    "\n",
    "\n",
    "my_url = soup.select('body > a')\n",
    "print(my_url[481:482])\n",
    "\n",
    "print(\"Start Downloading...\\n\")\n",
    "\n",
    "zipfile_list = []\n",
    "\n",
    "for url in my_url[481:482]:\n",
    "    file_name = url.get('href').split('/')[-1]\n",
    "    #ipg150106.zip\n",
    "    zipfile_list.append(file_name)\n",
    "    #['ipg150106.zip']\n",
    "\n",
    "    urllib.request.urlretrieve(url.get('href'), file_name)\n",
    "    print(\"Downloading '\" + file_name + \"' is done\\n\")\n",
    "\n",
    "\n",
    "#In[7]:\n",
    "\n",
    "import os\n",
    "\n",
    "cur_dir = os.getcwd()\n",
    "print(cur_dir)\n",
    "\n",
    "if not os.path.isdir(str(cur_dir + \"/patent_file/\")):\n",
    "    os.mkdir(str(cur_dir + \"/patent_file/\"))\n",
    "\n",
    "unzipped_list = []\n",
    "pd_list = []\n",
    "\n",
    "for i in zipfile_list:\n",
    "\n",
    "    file_path = cur_dir + \"/\" + str(i)\n",
    "    unzipped_name = i.split('.')[0]\n",
    "\n",
    "    pd_name = unzipped_name[-6:]\n",
    "\n",
    "    pd_list.append(pd_name)\n",
    "\n",
    "    pd_path = cur_dir + \"/patent_file/\" + pd_name\n",
    "\n",
    "\n",
    "    if not os.path.isdir(pd_path):\n",
    "        os.mkdir(pd_path)\n",
    "\n",
    "    unzipped_file = unzipped_name + \".xml\"\n",
    "\n",
    "\n",
    "    full_patent = pd_path + \"/\" + unzipped_file\n",
    "\n",
    "\n",
    "    patent_zip = zipfile.ZipFile(file_path)\n",
    "    patent_zip.extract(unzipped_file, pd_path)\n",
    "\n",
    "    patent_zip.close()\n",
    "\n",
    "\n",
    "    f = open(full_patent, \"r\")\n",
    "    patent = ''\n",
    "\n",
    "    print(\"1\")\n",
    "    while True:\n",
    "        line = f.readline()\n",
    "        patent += line\n",
    "        if not line: break\n",
    "    f.close()\n",
    "    print(\"2\")\n",
    "\n",
    "    start_index = [i.start() for i in re.finditer(\"\"\"\\<\\?xml version=\"1.0\" encoding=\"UTF-8\"\\?>\"\"\", patent)]\n",
    "    start_index.append(len(patent)+1)\n",
    "\n",
    "    text_list =[]\n",
    "    for start in range(1, len(start_index)):\n",
    "        text_list.append(patent[start_index[start-1]:start_index[start]])\n",
    "\n",
    "    for i in range(len(text_list)):\n",
    "        patent_file = \"patent_\" + str(i) + \".xml\"\n",
    "        with open(patent_file, \"w\") as f:\n",
    "            f.write(text_list[i])\n",
    "            f.close()\n"
   ]
  }
 ],
 "metadata": {
  "kernelspec": {
   "display_name": "Python 3",
   "language": "python",
   "name": "python3"
  },
  "language_info": {
   "codemirror_mode": {
    "name": "ipython",
    "version": 3
   },
   "file_extension": ".py",
   "mimetype": "text/x-python",
   "name": "python",
   "nbconvert_exporter": "python",
   "pygments_lexer": "ipython3",
   "version": "3.6.1"
  }
 },
 "nbformat": 4,
 "nbformat_minor": 2
}
