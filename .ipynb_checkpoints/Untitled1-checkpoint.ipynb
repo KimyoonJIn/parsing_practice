{
 "cells": [
  {
   "cell_type": "code",
   "execution_count": 2,
   "metadata": {
    "collapsed": true
   },
   "outputs": [],
   "source": [
    "import urllib.request\n",
    "from bs4 import BeautifulSoup\n",
    "\n",
    "#open xml file\n",
    "with open(\"patent_070130.xml\", \"r\", encoding = \"utf8\") as patent_xml:\n",
    "    xml = patent_xml.read()\n",
    "\n",
    "soup = BeautifulSoup(xml, \"lxml\")\n",
    "# print(soup)"
   ]
  },
  {
   "cell_type": "code",
   "execution_count": 3,
   "metadata": {
    "collapsed": true
   },
   "outputs": [],
   "source": [
    "\n",
    "#Conver xml to dict by using xmltodict\n",
    "import pprint\n",
    "import xmltodict\n",
    "doc = xmltodict.parse(xml)\n"
   ]
  },
  {
   "cell_type": "code",
   "execution_count": 4,
   "metadata": {
    "collapsed": false
   },
   "outputs": [
    {
     "name": "stdout",
     "output_type": "stream",
     "text": [
      "OrderedDict([('patcit', OrderedDict([('@num', '00001'), ('document-id', OrderedDict([('country', 'US'), ('doc-number', '1924903'), ('kind', 'A'), ('name', 'Birdseye'), ('date', '19330800')]))])), ('category', 'cited by examiner'), ('classification-national', OrderedDict([('country', 'US'), ('main-classification', '426 87')]))])\n",
      "OrderedDict([('patcit', OrderedDict([('@num', '00002'), ('document-id', OrderedDict([('country', 'US'), ('doc-number', '2842443'), ('kind', 'A'), ('name', 'Rice et al.'), ('date', '19580700')]))])), ('category', 'cited by examiner'), ('classification-national', OrderedDict([('country', 'US'), ('main-classification', '452176')]))])\n",
      "OrderedDict([('patcit', OrderedDict([('@num', '00003'), ('document-id', OrderedDict([('country', 'US'), ('doc-number', 'D197595'), ('kind', 'S'), ('name', 'Savitt'), ('date', '19640300')]))])), ('category', 'cited by examiner'), ('classification-national', OrderedDict([('country', 'US'), ('main-classification', 'D30160')]))])\n",
      "OrderedDict([('patcit', OrderedDict([('@num', '00004'), ('document-id', OrderedDict([('country', 'US'), ('doc-number', '3515331'), ('kind', 'A'), ('name', 'Guthrie, Sr.'), ('date', '19700600')]))])), ('category', 'cited by examiner'), ('classification-national', OrderedDict([('country', 'US'), ('main-classification', '22910311')]))])\n",
      "OrderedDict([('patcit', OrderedDict([('@num', '00005'), ('document-id', OrderedDict([('country', 'US'), ('doc-number', 'D234883'), ('kind', 'S'), ('name', 'Rich et al.'), ('date', '19750400')]))])), ('category', 'cited by examiner'), ('classification-national', OrderedDict([('country', 'US'), ('main-classification', 'D 1199')]))])\n",
      "OrderedDict([('patcit', OrderedDict([('@num', '00006'), ('document-id', OrderedDict([('country', 'US'), ('doc-number', 'D256958'), ('kind', 'S'), ('name', 'Markham'), ('date', '19800900')]))])), ('category', 'cited by examiner'), ('classification-national', OrderedDict([('country', 'US'), ('main-classification', 'D30160')]))])\n",
      "OrderedDict([('patcit', OrderedDict([('@num', '00007'), ('document-id', OrderedDict([('country', 'US'), ('doc-number', '5297984'), ('kind', 'A'), ('name', 'Gagliardi, Jr.'), ('date', '19940300')]))])), ('category', 'cited by examiner'), ('classification-national', OrderedDict([('country', 'US'), ('main-classification', '452136')]))])\n",
      "OrderedDict([('patcit', OrderedDict([('@num', '00008'), ('document-id', OrderedDict([('country', 'US'), ('doc-number', 'D418881'), ('kind', 'S'), ('name', 'Cousins'), ('date', '20000100')]))])), ('category', 'cited by examiner'), ('classification-national', OrderedDict([('country', 'US'), ('main-classification', 'D21681')]))])\n",
      "OrderedDict([('patcit', OrderedDict([('@num', '00009'), ('document-id', OrderedDict([('country', 'US'), ('doc-number', 'D473348'), ('kind', 'S'), ('name', 'Lang'), ('date', '20030400')]))])), ('category', 'cited by examiner'), ('classification-national', OrderedDict([('country', 'US'), ('main-classification', 'D30160')]))])\n",
      "OrderedDict([('patcit', OrderedDict([('@num', '00010'), ('document-id', OrderedDict([('country', 'US'), ('doc-number', 'D513096'), ('kind', 'S'), ('name', 'Stiles'), ('date', '20051200')]))])), ('category', 'cited by examiner'), ('classification-national', OrderedDict([('country', 'US'), ('main-classification', 'D30160')]))])\n",
      "OrderedDict([('patcit', OrderedDict([('@num', '00011'), ('document-id', OrderedDict([('country', 'US'), ('doc-number', 'D516276'), ('kind', 'S'), ('name', 'Unlu et al.'), ('date', '20060300')]))])), ('category', 'cited by examiner'), ('classification-national', OrderedDict([('country', 'US'), ('main-classification', 'D 1199')]))])\n",
      "OrderedDict([('nplcit', OrderedDict([('@num', '00012'), ('othercit', 'U.S. Appl. No. 29/244,022, filed Dec. 5, 2005.')])), ('category', 'cited by other')])\n"
     ]
    },
    {
     "ename": "KeyError",
     "evalue": "'patcit'",
     "output_type": "error",
     "traceback": [
      "\u001b[1;31m---------------------------------------------------------------------------\u001b[0m",
      "\u001b[1;31mKeyError\u001b[0m                                  Traceback (most recent call last)",
      "\u001b[1;32m<ipython-input-4-8b20b2a47e51>\u001b[0m in \u001b[0;36m<module>\u001b[1;34m()\u001b[0m\n\u001b[0;32m     28\u001b[0m     \u001b[0mprint\u001b[0m\u001b[1;33m(\u001b[0m\u001b[0mj\u001b[0m\u001b[1;33m)\u001b[0m\u001b[1;33m\u001b[0m\u001b[0m\n\u001b[0;32m     29\u001b[0m     \u001b[1;32mtry\u001b[0m\u001b[1;33m:\u001b[0m\u001b[1;33m\u001b[0m\u001b[0m\n\u001b[1;32m---> 30\u001b[1;33m         \u001b[0mpatcit_number\u001b[0m \u001b[1;33m=\u001b[0m \u001b[0mj\u001b[0m\u001b[1;33m[\u001b[0m\u001b[1;34m'patcit'\u001b[0m\u001b[1;33m]\u001b[0m\u001b[1;33m[\u001b[0m\u001b[1;34m'@num'\u001b[0m\u001b[1;33m]\u001b[0m\u001b[1;33m\u001b[0m\u001b[0m\n\u001b[0m\u001b[0;32m     31\u001b[0m         \u001b[0mpatcit_doc_country\u001b[0m \u001b[1;33m=\u001b[0m \u001b[0mj\u001b[0m\u001b[1;33m[\u001b[0m\u001b[1;34m'patcit'\u001b[0m\u001b[1;33m]\u001b[0m\u001b[1;33m[\u001b[0m\u001b[1;34m'document-id'\u001b[0m\u001b[1;33m]\u001b[0m\u001b[1;33m[\u001b[0m\u001b[1;34m'country'\u001b[0m\u001b[1;33m]\u001b[0m\u001b[1;33m\u001b[0m\u001b[0m\n\u001b[0;32m     32\u001b[0m         \u001b[0mpatcit_doc_docnumber\u001b[0m \u001b[1;33m=\u001b[0m \u001b[0mj\u001b[0m\u001b[1;33m[\u001b[0m\u001b[1;34m'patcit'\u001b[0m\u001b[1;33m]\u001b[0m\u001b[1;33m[\u001b[0m\u001b[1;34m'document-id'\u001b[0m\u001b[1;33m]\u001b[0m\u001b[1;33m[\u001b[0m\u001b[1;34m'doc-number'\u001b[0m\u001b[1;33m]\u001b[0m\u001b[1;33m\u001b[0m\u001b[0m\n",
      "\u001b[1;31mKeyError\u001b[0m: 'patcit'"
     ]
    }
   ],
   "source": [
    "class nplcit(Exception):\n",
    "    def __init__(self,npl):\n",
    "        self.npl = npl\n",
    "    def __str_(self):\n",
    "        nplcit_number = j['nplcit']['@num']\n",
    "        nplcit_othercitation = j['nplcit']['othercit']\n",
    "        category_in_npl = j['category']\n",
    "\n",
    "\n",
    "patcit=[]\n",
    "for i in range(len(doc['us-patent-grant']['us-bibliographic-data-grant']['references-cited']['citation'])):\n",
    "    patcit.append((doc['us-patent-grant']['us-bibliographic-data-grant']['references-cited']['citation'])[i])\n",
    "# print(patcit[1])\n",
    "\n",
    "patcit_num = []\n",
    "patcit_country = []\n",
    "patcit_doc_number = []\n",
    "patcit_kind = []\n",
    "patcit_name = []\n",
    "patcit_date = []\n",
    "\n",
    "nplcit_num =[]\n",
    "nplcit_othercit=[]\n",
    "npl_category=[]\n",
    "# print(patcit)\n",
    "\n",
    "for j in patcit:\n",
    "    print(j)\n",
    "    try:\n",
    "        patcit_number = j['patcit']['@num']\n",
    "        patcit_doc_country = j['patcit']['document-id']['country']\n",
    "        patcit_doc_docnumber = j['patcit']['document-id']['doc-number']\n",
    "        patcit_doc_kind = j['patcit']['document-id']['kind']\n",
    "        patcit_doc_name = j['patcit']['document-id']['name']\n",
    "        patcit_doc_date = j['patcit']['document-id']['date']\n",
    "        patcit_num.append(patcit_number)\n",
    "        patcit_country.append(patcit_doc_country)\n",
    "        patcit_doc_number.append(patcit_doc_docnumber)\n",
    "        patcit_kind.append(patcit_doc_kind)\n",
    "        patcit_name.append(patcit_doc_name)\n",
    "        patcit_date.append(patcit_doc_date)\n",
    "    except nplcit as np:\n",
    "        nplcit_num.append(nplcit_number)\n",
    "        nplcit_othercit.append(nplcit_othercitation)\n",
    "        npl_category.append(category_in_npl)"
   ]
  }
 ],
 "metadata": {
  "kernelspec": {
   "display_name": "Python 3",
   "language": "python",
   "name": "python3"
  },
  "language_info": {
   "codemirror_mode": {
    "name": "ipython",
    "version": 3
   },
   "file_extension": ".py",
   "mimetype": "text/x-python",
   "name": "python",
   "nbconvert_exporter": "python",
   "pygments_lexer": "ipython3",
   "version": "3.5.2"
  }
 },
 "nbformat": 4,
 "nbformat_minor": 0
}
